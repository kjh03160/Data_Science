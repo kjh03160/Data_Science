{
 "cells": [
  {
   "cell_type": "markdown",
   "metadata": {},
   "source": [
    "* **`arr.max()` : 최댓값**  \n",
    "* **`arr.min()` : 최솟값** "
   ]
  },
  {
   "cell_type": "code",
   "execution_count": 1,
   "metadata": {
    "scrolled": true
   },
   "outputs": [
    {
     "name": "stdout",
     "output_type": "stream",
     "text": [
      "31\n",
      "5\n"
     ]
    }
   ],
   "source": [
    "import numpy as np\n",
    "\n",
    "arr = np.array([14, 6, 13, 21, 23, 31, 9, 5])\n",
    "\n",
    "print(arr.max()) # 최댓값\n",
    "print(arr.min()) # 최솟값"
   ]
  },
  {
   "cell_type": "markdown",
   "metadata": {},
   "source": [
    "* **`arr.mean()` : 평균값 (실수형)**"
   ]
  },
  {
   "cell_type": "code",
   "execution_count": 2,
   "metadata": {},
   "outputs": [
    {
     "name": "stdout",
     "output_type": "stream",
     "text": [
      "15.25\n"
     ]
    }
   ],
   "source": [
    "import numpy as np\n",
    "\n",
    "arr = np.array([14, 6, 13, 21, 23, 31, 9, 5])\n",
    "\n",
    "print(arr.mean()) # 평균값"
   ]
  },
  {
   "cell_type": "markdown",
   "metadata": {},
   "source": [
    "* **`np.median(arr)` : 중간값 (실수형) -> ★ numpy 메소드임**"
   ]
  },
  {
   "cell_type": "code",
   "execution_count": 3,
   "metadata": {},
   "outputs": [
    {
     "name": "stdout",
     "output_type": "stream",
     "text": [
      "12.0\n",
      "13.5\n"
     ]
    }
   ],
   "source": [
    "arr1 = np.array([8, 12, 9, 15, 16])\n",
    "arr2 = np.array([14, 6, 13, 21, 23, 31, 9, 5])\n",
    "\n",
    "print(np.median(arr1)) # 중앙값\n",
    "print(np.median(arr2)) # 중앙값"
   ]
  },
  {
   "cell_type": "markdown",
   "metadata": {},
   "source": [
    "* **`arr.std()` : 표준편차 (실수형)**\n",
    "* **`arr.var()` : 분산 (실수형)**"
   ]
  },
  {
   "cell_type": "code",
   "execution_count": 4,
   "metadata": {},
   "outputs": [
    {
     "name": "stdout",
     "output_type": "stream",
     "text": [
      "8.496322733983215\n",
      "72.1875\n"
     ]
    }
   ],
   "source": [
    "print(arr.std()) # 표준 편차\n",
    "print(arr.var()) # 분산"
   ]
  }
 ],
 "metadata": {
  "kernelspec": {
   "display_name": "Python 3",
   "language": "python",
   "name": "python3"
  },
  "language_info": {
   "codemirror_mode": {
    "name": "ipython",
    "version": 3
   },
   "file_extension": ".py",
   "mimetype": "text/x-python",
   "name": "python",
   "nbconvert_exporter": "python",
   "pygments_lexer": "ipython3",
   "version": "3.7.5"
  }
 },
 "nbformat": 4,
 "nbformat_minor": 4
}
