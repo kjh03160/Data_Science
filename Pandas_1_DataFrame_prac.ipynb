{
 "cells": [
  {
   "cell_type": "markdown",
   "metadata": {},
   "source": [
    "스타들의 생일은 언제?\n",
    "---\n",
    "아래와 같은 결과가 나오도록 DataFrame을 만들고 출력해 보세요.  \n",
    "column은 name, birthday, occupation 총 3개입니다.\n",
    "\n",
    "\n",
    "![1](https://i.imgur.com/ioHLlBj.png)"
   ]
  },
  {
   "cell_type": "code",
   "execution_count": 1,
   "metadata": {},
   "outputs": [
    {
     "data": {
      "text/html": [
       "<div>\n",
       "<style scoped>\n",
       "    .dataframe tbody tr th:only-of-type {\n",
       "        vertical-align: middle;\n",
       "    }\n",
       "\n",
       "    .dataframe tbody tr th {\n",
       "        vertical-align: top;\n",
       "    }\n",
       "\n",
       "    .dataframe thead th {\n",
       "        text-align: right;\n",
       "    }\n",
       "</style>\n",
       "<table border=\"1\" class=\"dataframe\">\n",
       "  <thead>\n",
       "    <tr style=\"text-align: right;\">\n",
       "      <th></th>\n",
       "      <th>name</th>\n",
       "      <th>occupation</th>\n",
       "    </tr>\n",
       "  </thead>\n",
       "  <tbody>\n",
       "    <tr>\n",
       "      <th>0</th>\n",
       "      <td>Taylor Swift</td>\n",
       "      <td>Singer-songwriter</td>\n",
       "    </tr>\n",
       "    <tr>\n",
       "      <th>1</th>\n",
       "      <td>Aaron Sorkin</td>\n",
       "      <td>Screenwriter</td>\n",
       "    </tr>\n",
       "    <tr>\n",
       "      <th>2</th>\n",
       "      <td>Harry Potter</td>\n",
       "      <td>Wizard</td>\n",
       "    </tr>\n",
       "    <tr>\n",
       "      <th>3</th>\n",
       "      <td>Ji-Sung Park</td>\n",
       "      <td>Footballer</td>\n",
       "    </tr>\n",
       "  </tbody>\n",
       "</table>\n",
       "</div>"
      ],
      "text/plain": [
       "           name         occupation\n",
       "0  Taylor Swift  Singer-songwriter\n",
       "1  Aaron Sorkin       Screenwriter\n",
       "2  Harry Potter             Wizard\n",
       "3  Ji-Sung Park         Footballer"
      ]
     },
     "execution_count": 1,
     "metadata": {},
     "output_type": "execute_result"
    }
   ],
   "source": [
    "import pandas as pd\n",
    "\n",
    "# 코드를 작성하세요.\n",
    "name = ['Taylor Swift', 'Aaron Sorkin', 'Harry Potter','Ji-Sung Park']\n",
    "birthday = ['December 13, 1989','June 9, 1961','July 31, 1980','February 25, 1981']\n",
    "occupation = ['Singer-songwriter','Screenwriter','Wizard','Footballer']\n",
    "dic1 = {\n",
    "    'name' : name,\n",
    "    'occupation' : occupation\n",
    "}\n",
    "df = pd.DataFrame(dic1)\n",
    "# 정답 출력\n",
    "df"
   ]
  }
 ],
 "metadata": {
  "kernelspec": {
   "display_name": "Python 3",
   "language": "python",
   "name": "python3"
  },
  "language_info": {
   "codemirror_mode": {
    "name": "ipython",
    "version": 3
   },
   "file_extension": ".py",
   "mimetype": "text/x-python",
   "name": "python",
   "nbconvert_exporter": "python",
   "pygments_lexer": "ipython3",
   "version": "3.7.2"
  }
 },
 "nbformat": 4,
 "nbformat_minor": 4
}
